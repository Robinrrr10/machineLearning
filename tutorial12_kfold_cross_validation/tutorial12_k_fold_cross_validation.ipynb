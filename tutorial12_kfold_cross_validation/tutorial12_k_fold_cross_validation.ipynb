{
 "cells": [
  {
   "cell_type": "markdown",
   "id": "8985b204-0a76-4523-a319-54333d6d0f21",
   "metadata": {},
   "source": [
    "### Tutorial 12 : K Fold Cross Validation"
   ]
  },
  {
   "cell_type": "code",
   "execution_count": 5,
   "id": "5c168e47-3bc3-4a7e-abd1-6192dfe82bf3",
   "metadata": {},
   "outputs": [],
   "source": [
    "import pandas as pd\n",
    "import matplotlib.pyplot as plt\n",
    "from sklearn.linear_model import LogisticRegression\n",
    "from sklearn.svm import SVC\n",
    "from sklearn.ensemble import RandomForestClassifier\n",
    "from sklearn.datasets import load_digits\n",
    "digits = load_digits()"
   ]
  },
  {
   "cell_type": "code",
   "execution_count": 8,
   "id": "0cea9caf-f88c-49a5-a980-e050ab2c695c",
   "metadata": {},
   "outputs": [],
   "source": [
    "from sklearn.model_selection import train_test_split\n",
    "X_train, X_test, y_train, y_test = train_test_split(digits.data, digits.target, test_size=0.3)"
   ]
  },
  {
   "cell_type": "code",
   "execution_count": 10,
   "id": "789a679f-119c-4218-9486-762e505a7f84",
   "metadata": {},
   "outputs": [
    {
     "data": {
      "text/plain": [
       "0.9722222222222222"
      ]
     },
     "execution_count": 10,
     "metadata": {},
     "output_type": "execute_result"
    }
   ],
   "source": [
    "lr_model = LogisticRegression(max_iter=1000)\n",
    "lr_model.fit(X_train, y_train)\n",
    "lr_model.score(X_test, y_test)"
   ]
  },
  {
   "cell_type": "code",
   "execution_count": 11,
   "id": "d12a56ec-4e30-4779-ae8e-105d5fd3b6ab",
   "metadata": {},
   "outputs": [
    {
     "data": {
      "text/plain": [
       "0.9907407407407407"
      ]
     },
     "execution_count": 11,
     "metadata": {},
     "output_type": "execute_result"
    }
   ],
   "source": [
    "svc_model = SVC()\n",
    "svc_model.fit(X_train, y_train)\n",
    "svc_model.score(X_test, y_test)"
   ]
  },
  {
   "cell_type": "code",
   "execution_count": 13,
   "id": "8e4eaf6a-270b-48bd-b243-d725813e40c3",
   "metadata": {},
   "outputs": [
    {
     "data": {
      "text/plain": [
       "0.9796296296296296"
      ]
     },
     "execution_count": 13,
     "metadata": {},
     "output_type": "execute_result"
    }
   ],
   "source": [
    "rf_model = RandomForestClassifier()\n",
    "rf_model.fit(X_train, y_train)\n",
    "rf_model.score(X_test, y_test)"
   ]
  },
  {
   "cell_type": "code",
   "execution_count": 15,
   "id": "b2636314-2d44-4da4-b1a6-6216695a5ec8",
   "metadata": {},
   "outputs": [],
   "source": [
    "from sklearn.model_selection import KFold\n",
    "kf = KFold(n_splits=3)   # Mostly people might use 10. 3 I have just given for this"
   ]
  },
  {
   "cell_type": "code",
   "execution_count": 19,
   "id": "9d97e2cd-76ac-4307-9d45-64bd1575e5f9",
   "metadata": {},
   "outputs": [
    {
     "name": "stdout",
     "output_type": "stream",
     "text": [
      "[3 4 5 6 7 8] [0 1 2]\n",
      "[0 1 2 6 7 8] [3 4 5]\n",
      "[0 1 2 3 4 5] [6 7 8]\n"
     ]
    }
   ],
   "source": [
    "for train_index, test_index in kf.split([1, 2, 3, 4, 5, 6, 7, 8, 9]):\n",
    "    print(train_index, test_index)"
   ]
  },
  {
   "cell_type": "code",
   "execution_count": 23,
   "id": "b66ffa99-906d-497b-ba34-59ddf9291688",
   "metadata": {},
   "outputs": [],
   "source": [
    "def get_score(model, X_train, X_test, y_train, y_test):\n",
    "    model.fit(X_train, y_train)\n",
    "    return model.score(X_test, y_test)"
   ]
  },
  {
   "cell_type": "code",
   "execution_count": 25,
   "id": "7ca1353e-42d1-4007-b52a-975b064d9ab7",
   "metadata": {},
   "outputs": [
    {
     "data": {
      "text/plain": [
       "0.9722222222222222"
      ]
     },
     "execution_count": 25,
     "metadata": {},
     "output_type": "execute_result"
    }
   ],
   "source": [
    "get_score(LogisticRegression(max_iter=1000), X_train, X_test, y_train, y_test )"
   ]
  },
  {
   "cell_type": "code",
   "execution_count": 26,
   "id": "eb94c704-3c43-4198-be2f-90720f957c25",
   "metadata": {},
   "outputs": [
    {
     "data": {
      "text/plain": [
       "0.9907407407407407"
      ]
     },
     "execution_count": 26,
     "metadata": {},
     "output_type": "execute_result"
    }
   ],
   "source": [
    "get_score(SVC(), X_train, X_test, y_train, y_test )"
   ]
  },
  {
   "cell_type": "code",
   "execution_count": 27,
   "id": "5ea2ec66-b781-40c3-890e-cae174708e45",
   "metadata": {},
   "outputs": [
    {
     "data": {
      "text/plain": [
       "0.9796296296296296"
      ]
     },
     "execution_count": 27,
     "metadata": {},
     "output_type": "execute_result"
    }
   ],
   "source": [
    "get_score(RandomForestClassifier(), X_train, X_test, y_train, y_test )"
   ]
  },
  {
   "cell_type": "code",
   "execution_count": 60,
   "id": "126815bd-4734-47a4-86c4-07f581bbd42b",
   "metadata": {},
   "outputs": [],
   "source": [
    "from sklearn.model_selection import StratifiedKFold\n",
    "skf = StratifiedKFold(n_splits=3)    # KFold takes randomly, here in StratifiedKFold takes uniform one by one. So this is better. We can use any\n",
    " # Mostly people might use 10. 3 I have just given for this"
   ]
  },
  {
   "cell_type": "code",
   "execution_count": 61,
   "id": "333cbc3b-a7ae-49ae-a654-f457369041ca",
   "metadata": {},
   "outputs": [],
   "source": [
    "score_lr = []\n",
    "score_svc = []\n",
    "score_rf = []"
   ]
  },
  {
   "cell_type": "code",
   "execution_count": 62,
   "id": "cf47b147-3d7a-4ec6-b95b-12b85af3a021",
   "metadata": {},
   "outputs": [],
   "source": [
    "for train_index, test_index in skf.split(digits.data, digits.target):\n",
    "    X_train, X_test, y_train, y_test = digits.data[train_index], digits.data[test_index], digits.target[train_index], digits.target[test_index]\n",
    "    score_lr.append(get_score(LogisticRegression(max_iter=1000), X_train, X_test, y_train, y_test))\n",
    "    score_svc.append(get_score(SVC(), X_train, X_test, y_train, y_test))\n",
    "    score_rf.append(get_score(RandomForestClassifier(n_estimators=200), X_train, X_test, y_train, y_test))"
   ]
  },
  {
   "cell_type": "code",
   "execution_count": 63,
   "id": "3d76331e-8b7f-4e7b-ab9a-468e69a231aa",
   "metadata": {},
   "outputs": [
    {
     "data": {
      "text/plain": [
       "[0.9198664440734557, 0.9415692821368948, 0.9165275459098498]"
      ]
     },
     "execution_count": 63,
     "metadata": {},
     "output_type": "execute_result"
    }
   ],
   "source": [
    "score_lr"
   ]
  },
  {
   "cell_type": "code",
   "execution_count": 64,
   "id": "a666d155-391e-4609-b4b5-bcce35095088",
   "metadata": {},
   "outputs": [
    {
     "data": {
      "text/plain": [
       "[0.9649415692821369, 0.9799666110183639, 0.9649415692821369]"
      ]
     },
     "execution_count": 64,
     "metadata": {},
     "output_type": "execute_result"
    }
   ],
   "source": [
    "score_svc"
   ]
  },
  {
   "cell_type": "code",
   "execution_count": 65,
   "id": "50cf40c4-e044-4e7f-9bd6-474d1af89414",
   "metadata": {},
   "outputs": [
    {
     "data": {
      "text/plain": [
       "[0.9332220367278798, 0.9649415692821369, 0.9332220367278798]"
      ]
     },
     "execution_count": 65,
     "metadata": {},
     "output_type": "execute_result"
    }
   ],
   "source": [
    "score_rf"
   ]
  },
  {
   "cell_type": "markdown",
   "id": "c27e0c7b-aef2-4984-8700-3f08c5cb77be",
   "metadata": {},
   "source": [
    "### Above is to explain the internal logic, But we can use build in one like below"
   ]
  },
  {
   "cell_type": "code",
   "execution_count": 66,
   "id": "c9f9f158-b3e3-4c07-8698-705db9edc54f",
   "metadata": {},
   "outputs": [],
   "source": [
    "from sklearn.model_selection import cross_val_score"
   ]
  },
  {
   "cell_type": "code",
   "execution_count": 67,
   "id": "7593b8e7-0e0d-4fce-8ced-a12184d9d4b1",
   "metadata": {},
   "outputs": [
    {
     "data": {
      "text/plain": [
       "array([0.92222222, 0.87222222, 0.94150418, 0.94150418, 0.89693593])"
      ]
     },
     "execution_count": 67,
     "metadata": {},
     "output_type": "execute_result"
    }
   ],
   "source": [
    "cross_val_score(LogisticRegression(max_iter=1000), digits.data, digits.target)"
   ]
  },
  {
   "cell_type": "code",
   "execution_count": 68,
   "id": "fd64b638-a9d0-4b39-afc5-d79acdbf097d",
   "metadata": {},
   "outputs": [
    {
     "data": {
      "text/plain": [
       "array([0.96111111, 0.94444444, 0.98328691, 0.98885794, 0.93871866])"
      ]
     },
     "execution_count": 68,
     "metadata": {},
     "output_type": "execute_result"
    }
   ],
   "source": [
    "cross_val_score(SVC(), digits.data, digits.target)"
   ]
  },
  {
   "cell_type": "code",
   "execution_count": 69,
   "id": "16a1f844-fc5e-4ba4-9607-af13104a4f76",
   "metadata": {},
   "outputs": [
    {
     "data": {
      "text/plain": [
       "array([0.93055556, 0.91666667, 0.96100279, 0.9637883 , 0.92200557])"
      ]
     },
     "execution_count": 69,
     "metadata": {},
     "output_type": "execute_result"
    }
   ],
   "source": [
    "cross_val_score(RandomForestClassifier(n_estimators=200), digits.data, digits.target)"
   ]
  },
  {
   "cell_type": "code",
   "execution_count": 70,
   "id": "4b499567-d263-4f50-a5a2-597dd337a15e",
   "metadata": {},
   "outputs": [
    {
     "data": {
      "text/plain": [
       "array([0.93611111, 0.89166667, 0.95821727, 0.95821727, 0.91922006])"
      ]
     },
     "execution_count": 70,
     "metadata": {},
     "output_type": "execute_result"
    }
   ],
   "source": [
    "cross_val_score(RandomForestClassifier(n_estimators=50), digits.data, digits.target)"
   ]
  },
  {
   "cell_type": "code",
   "execution_count": 71,
   "id": "07748a96-735c-449e-a5f2-11c69b9f6bbb",
   "metadata": {},
   "outputs": [
    {
     "data": {
      "text/plain": [
       "array([0.925     , 0.91666667, 0.9637883 , 0.96100279, 0.91364903])"
      ]
     },
     "execution_count": 71,
     "metadata": {},
     "output_type": "execute_result"
    }
   ],
   "source": [
    "cross_val_score(RandomForestClassifier(n_estimators=100), digits.data, digits.target)"
   ]
  },
  {
   "cell_type": "code",
   "execution_count": 72,
   "id": "e7533abc-81e7-494e-a350-20f494dcece1",
   "metadata": {},
   "outputs": [
    {
     "data": {
      "text/plain": [
       "array([0.93055556, 0.91944444, 0.96100279, 0.97214485, 0.91922006])"
      ]
     },
     "execution_count": 72,
     "metadata": {},
     "output_type": "execute_result"
    }
   ],
   "source": [
    "cross_val_score(RandomForestClassifier(n_estimators=150), digits.data, digits.target)"
   ]
  },
  {
   "cell_type": "code",
   "execution_count": 73,
   "id": "5cf6877c-3920-4567-858d-a7fae2733a65",
   "metadata": {},
   "outputs": [
    {
     "data": {
      "text/plain": [
       "array([0.93055556, 0.91666667, 0.95543175, 0.96935933, 0.92479109])"
      ]
     },
     "execution_count": 73,
     "metadata": {},
     "output_type": "execute_result"
    }
   ],
   "source": [
    "cross_val_score(RandomForestClassifier(n_estimators=200), digits.data, digits.target)"
   ]
  }
 ],
 "metadata": {
  "kernelspec": {
   "display_name": "Python 3 (ipykernel)",
   "language": "python",
   "name": "python3"
  },
  "language_info": {
   "codemirror_mode": {
    "name": "ipython",
    "version": 3
   },
   "file_extension": ".py",
   "mimetype": "text/x-python",
   "name": "python",
   "nbconvert_exporter": "python",
   "pygments_lexer": "ipython3",
   "version": "3.12.3"
  }
 },
 "nbformat": 4,
 "nbformat_minor": 5
}
